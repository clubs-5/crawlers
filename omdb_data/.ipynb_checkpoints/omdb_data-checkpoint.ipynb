{
 "cells": [
  {
   "cell_type": "code",
   "execution_count": 4,
   "metadata": {},
   "outputs": [
    {
     "ename": "FileNotFoundError",
     "evalue": "[Errno 2] File /home/brucechen/桌面/tibame_project/crawlers/Emmy_primetime/maPrimetime/EmmaPrimetime/spiders/Prime.csv does not exist: '/home/brucechen/桌面/tibame_project/crawlers/Emmy_primetime/maPrimetime/EmmaPrimetime/spiders/Prime.csv'",
     "output_type": "error",
     "traceback": [
      "\u001b[0;31m---------------------------------------------------------------------------\u001b[0m",
      "\u001b[0;31mFileNotFoundError\u001b[0m                         Traceback (most recent call last)",
      "\u001b[0;32m<ipython-input-4-76ad0a8aa7ed>\u001b[0m in \u001b[0;36m<module>\u001b[0;34m\u001b[0m\n\u001b[1;32m      1\u001b[0m \u001b[0;32mimport\u001b[0m \u001b[0mpandas\u001b[0m \u001b[0;32mas\u001b[0m \u001b[0mpd\u001b[0m\u001b[0;34m\u001b[0m\u001b[0;34m\u001b[0m\u001b[0m\n\u001b[1;32m      2\u001b[0m \u001b[0;34m\u001b[0m\u001b[0m\n\u001b[0;32m----> 3\u001b[0;31m \u001b[0mpf\u001b[0m  \u001b[0;34m=\u001b[0m \u001b[0mpd\u001b[0m\u001b[0;34m.\u001b[0m\u001b[0mread_csv\u001b[0m\u001b[0;34m(\u001b[0m\u001b[0;34m'/home/brucechen/桌面/tibame_project/crawlers/Emmy_primetime/maPrimetime/EmmaPrimetime/spiders/Prime.csv'\u001b[0m\u001b[0;34m)\u001b[0m\u001b[0;34m\u001b[0m\u001b[0;34m\u001b[0m\u001b[0m\n\u001b[0m",
      "\u001b[0;32m~/anaconda3/lib/python3.8/site-packages/pandas/io/parsers.py\u001b[0m in \u001b[0;36mparser_f\u001b[0;34m(filepath_or_buffer, sep, delimiter, header, names, index_col, usecols, squeeze, prefix, mangle_dupe_cols, dtype, engine, converters, true_values, false_values, skipinitialspace, skiprows, skipfooter, nrows, na_values, keep_default_na, na_filter, verbose, skip_blank_lines, parse_dates, infer_datetime_format, keep_date_col, date_parser, dayfirst, cache_dates, iterator, chunksize, compression, thousands, decimal, lineterminator, quotechar, quoting, doublequote, escapechar, comment, encoding, dialect, error_bad_lines, warn_bad_lines, delim_whitespace, low_memory, memory_map, float_precision)\u001b[0m\n\u001b[1;32m    674\u001b[0m         )\n\u001b[1;32m    675\u001b[0m \u001b[0;34m\u001b[0m\u001b[0m\n\u001b[0;32m--> 676\u001b[0;31m         \u001b[0;32mreturn\u001b[0m \u001b[0m_read\u001b[0m\u001b[0;34m(\u001b[0m\u001b[0mfilepath_or_buffer\u001b[0m\u001b[0;34m,\u001b[0m \u001b[0mkwds\u001b[0m\u001b[0;34m)\u001b[0m\u001b[0;34m\u001b[0m\u001b[0;34m\u001b[0m\u001b[0m\n\u001b[0m\u001b[1;32m    677\u001b[0m \u001b[0;34m\u001b[0m\u001b[0m\n\u001b[1;32m    678\u001b[0m     \u001b[0mparser_f\u001b[0m\u001b[0;34m.\u001b[0m\u001b[0m__name__\u001b[0m \u001b[0;34m=\u001b[0m \u001b[0mname\u001b[0m\u001b[0;34m\u001b[0m\u001b[0;34m\u001b[0m\u001b[0m\n",
      "\u001b[0;32m~/anaconda3/lib/python3.8/site-packages/pandas/io/parsers.py\u001b[0m in \u001b[0;36m_read\u001b[0;34m(filepath_or_buffer, kwds)\u001b[0m\n\u001b[1;32m    446\u001b[0m \u001b[0;34m\u001b[0m\u001b[0m\n\u001b[1;32m    447\u001b[0m     \u001b[0;31m# Create the parser.\u001b[0m\u001b[0;34m\u001b[0m\u001b[0;34m\u001b[0m\u001b[0;34m\u001b[0m\u001b[0m\n\u001b[0;32m--> 448\u001b[0;31m     \u001b[0mparser\u001b[0m \u001b[0;34m=\u001b[0m \u001b[0mTextFileReader\u001b[0m\u001b[0;34m(\u001b[0m\u001b[0mfp_or_buf\u001b[0m\u001b[0;34m,\u001b[0m \u001b[0;34m**\u001b[0m\u001b[0mkwds\u001b[0m\u001b[0;34m)\u001b[0m\u001b[0;34m\u001b[0m\u001b[0;34m\u001b[0m\u001b[0m\n\u001b[0m\u001b[1;32m    449\u001b[0m \u001b[0;34m\u001b[0m\u001b[0m\n\u001b[1;32m    450\u001b[0m     \u001b[0;32mif\u001b[0m \u001b[0mchunksize\u001b[0m \u001b[0;32mor\u001b[0m \u001b[0miterator\u001b[0m\u001b[0;34m:\u001b[0m\u001b[0;34m\u001b[0m\u001b[0;34m\u001b[0m\u001b[0m\n",
      "\u001b[0;32m~/anaconda3/lib/python3.8/site-packages/pandas/io/parsers.py\u001b[0m in \u001b[0;36m__init__\u001b[0;34m(self, f, engine, **kwds)\u001b[0m\n\u001b[1;32m    878\u001b[0m             \u001b[0mself\u001b[0m\u001b[0;34m.\u001b[0m\u001b[0moptions\u001b[0m\u001b[0;34m[\u001b[0m\u001b[0;34m\"has_index_names\"\u001b[0m\u001b[0;34m]\u001b[0m \u001b[0;34m=\u001b[0m \u001b[0mkwds\u001b[0m\u001b[0;34m[\u001b[0m\u001b[0;34m\"has_index_names\"\u001b[0m\u001b[0;34m]\u001b[0m\u001b[0;34m\u001b[0m\u001b[0;34m\u001b[0m\u001b[0m\n\u001b[1;32m    879\u001b[0m \u001b[0;34m\u001b[0m\u001b[0m\n\u001b[0;32m--> 880\u001b[0;31m         \u001b[0mself\u001b[0m\u001b[0;34m.\u001b[0m\u001b[0m_make_engine\u001b[0m\u001b[0;34m(\u001b[0m\u001b[0mself\u001b[0m\u001b[0;34m.\u001b[0m\u001b[0mengine\u001b[0m\u001b[0;34m)\u001b[0m\u001b[0;34m\u001b[0m\u001b[0;34m\u001b[0m\u001b[0m\n\u001b[0m\u001b[1;32m    881\u001b[0m \u001b[0;34m\u001b[0m\u001b[0m\n\u001b[1;32m    882\u001b[0m     \u001b[0;32mdef\u001b[0m \u001b[0mclose\u001b[0m\u001b[0;34m(\u001b[0m\u001b[0mself\u001b[0m\u001b[0;34m)\u001b[0m\u001b[0;34m:\u001b[0m\u001b[0;34m\u001b[0m\u001b[0;34m\u001b[0m\u001b[0m\n",
      "\u001b[0;32m~/anaconda3/lib/python3.8/site-packages/pandas/io/parsers.py\u001b[0m in \u001b[0;36m_make_engine\u001b[0;34m(self, engine)\u001b[0m\n\u001b[1;32m   1112\u001b[0m     \u001b[0;32mdef\u001b[0m \u001b[0m_make_engine\u001b[0m\u001b[0;34m(\u001b[0m\u001b[0mself\u001b[0m\u001b[0;34m,\u001b[0m \u001b[0mengine\u001b[0m\u001b[0;34m=\u001b[0m\u001b[0;34m\"c\"\u001b[0m\u001b[0;34m)\u001b[0m\u001b[0;34m:\u001b[0m\u001b[0;34m\u001b[0m\u001b[0;34m\u001b[0m\u001b[0m\n\u001b[1;32m   1113\u001b[0m         \u001b[0;32mif\u001b[0m \u001b[0mengine\u001b[0m \u001b[0;34m==\u001b[0m \u001b[0;34m\"c\"\u001b[0m\u001b[0;34m:\u001b[0m\u001b[0;34m\u001b[0m\u001b[0;34m\u001b[0m\u001b[0m\n\u001b[0;32m-> 1114\u001b[0;31m             \u001b[0mself\u001b[0m\u001b[0;34m.\u001b[0m\u001b[0m_engine\u001b[0m \u001b[0;34m=\u001b[0m \u001b[0mCParserWrapper\u001b[0m\u001b[0;34m(\u001b[0m\u001b[0mself\u001b[0m\u001b[0;34m.\u001b[0m\u001b[0mf\u001b[0m\u001b[0;34m,\u001b[0m \u001b[0;34m**\u001b[0m\u001b[0mself\u001b[0m\u001b[0;34m.\u001b[0m\u001b[0moptions\u001b[0m\u001b[0;34m)\u001b[0m\u001b[0;34m\u001b[0m\u001b[0;34m\u001b[0m\u001b[0m\n\u001b[0m\u001b[1;32m   1115\u001b[0m         \u001b[0;32melse\u001b[0m\u001b[0;34m:\u001b[0m\u001b[0;34m\u001b[0m\u001b[0;34m\u001b[0m\u001b[0m\n\u001b[1;32m   1116\u001b[0m             \u001b[0;32mif\u001b[0m \u001b[0mengine\u001b[0m \u001b[0;34m==\u001b[0m \u001b[0;34m\"python\"\u001b[0m\u001b[0;34m:\u001b[0m\u001b[0;34m\u001b[0m\u001b[0;34m\u001b[0m\u001b[0m\n",
      "\u001b[0;32m~/anaconda3/lib/python3.8/site-packages/pandas/io/parsers.py\u001b[0m in \u001b[0;36m__init__\u001b[0;34m(self, src, **kwds)\u001b[0m\n\u001b[1;32m   1889\u001b[0m         \u001b[0mkwds\u001b[0m\u001b[0;34m[\u001b[0m\u001b[0;34m\"usecols\"\u001b[0m\u001b[0;34m]\u001b[0m \u001b[0;34m=\u001b[0m \u001b[0mself\u001b[0m\u001b[0;34m.\u001b[0m\u001b[0musecols\u001b[0m\u001b[0;34m\u001b[0m\u001b[0;34m\u001b[0m\u001b[0m\n\u001b[1;32m   1890\u001b[0m \u001b[0;34m\u001b[0m\u001b[0m\n\u001b[0;32m-> 1891\u001b[0;31m         \u001b[0mself\u001b[0m\u001b[0;34m.\u001b[0m\u001b[0m_reader\u001b[0m \u001b[0;34m=\u001b[0m \u001b[0mparsers\u001b[0m\u001b[0;34m.\u001b[0m\u001b[0mTextReader\u001b[0m\u001b[0;34m(\u001b[0m\u001b[0msrc\u001b[0m\u001b[0;34m,\u001b[0m \u001b[0;34m**\u001b[0m\u001b[0mkwds\u001b[0m\u001b[0;34m)\u001b[0m\u001b[0;34m\u001b[0m\u001b[0;34m\u001b[0m\u001b[0m\n\u001b[0m\u001b[1;32m   1892\u001b[0m         \u001b[0mself\u001b[0m\u001b[0;34m.\u001b[0m\u001b[0munnamed_cols\u001b[0m \u001b[0;34m=\u001b[0m \u001b[0mself\u001b[0m\u001b[0;34m.\u001b[0m\u001b[0m_reader\u001b[0m\u001b[0;34m.\u001b[0m\u001b[0munnamed_cols\u001b[0m\u001b[0;34m\u001b[0m\u001b[0;34m\u001b[0m\u001b[0m\n\u001b[1;32m   1893\u001b[0m \u001b[0;34m\u001b[0m\u001b[0m\n",
      "\u001b[0;32mpandas/_libs/parsers.pyx\u001b[0m in \u001b[0;36mpandas._libs.parsers.TextReader.__cinit__\u001b[0;34m()\u001b[0m\n",
      "\u001b[0;32mpandas/_libs/parsers.pyx\u001b[0m in \u001b[0;36mpandas._libs.parsers.TextReader._setup_parser_source\u001b[0;34m()\u001b[0m\n",
      "\u001b[0;31mFileNotFoundError\u001b[0m: [Errno 2] File /home/brucechen/桌面/tibame_project/crawlers/Emmy_primetime/maPrimetime/EmmaPrimetime/spiders/Prime.csv does not exist: '/home/brucechen/桌面/tibame_project/crawlers/Emmy_primetime/maPrimetime/EmmaPrimetime/spiders/Prime.csv'"
     ]
    }
   ],
   "source": [
    "import pandas as pd\n",
    "\n",
    "pf  = pd.read_csv('/home/brucechen/桌面/tibame_project/crawlers/Emmy_primetime/maPrimetime/EmmaPrimetime/spiders/Prime.csv')"
   ]
  },
  {
   "cell_type": "code",
   "execution_count": 2,
   "metadata": {},
   "outputs": [],
   "source": [
    "from omdbapi.movie_search import GetMovie\n",
    "movie = GetMovie(title='Succession', api_key='1368be7b')"
   ]
  },
  {
   "cell_type": "code",
   "execution_count": 3,
   "metadata": {},
   "outputs": [
    {
     "data": {
      "text/plain": [
       "{'Title': 'Succession',\n",
       " 'Year': '2018–',\n",
       " 'Rated': 'TV-MA',\n",
       " 'Released': '03 Jun 2018',\n",
       " 'Runtime': '60 min',\n",
       " 'Genre': 'Drama',\n",
       " 'Director': 'N/A',\n",
       " 'Writer': 'Jesse Armstrong',\n",
       " 'Actors': 'Brian Cox, Kieran Culkin, Sarah Snook, Jeremy Strong',\n",
       " 'Plot': 'Succession follows a dysfunctional American global-media family.',\n",
       " 'Language': 'English',\n",
       " 'Country': 'USA',\n",
       " 'Awards': 'Won 2 Golden Globes. Another 36 wins & 54 nominations.',\n",
       " 'Poster': 'https://m.media-amazon.com/images/M/MV5BZDMyY2I0ZjEtMzc4Yi00MTQxLWI1MWYtOWJjNjIwMTMyYWFjXkEyXkFqcGdeQXVyMTkxNjUyNQ@@._V1_SX300.jpg',\n",
       " 'Ratings': [{'Source': 'Internet Movie Database', 'Value': '8.6/10'}],\n",
       " 'Metascore': 'N/A',\n",
       " 'imdbRating': '8.6',\n",
       " 'imdbVotes': '34,864',\n",
       " 'imdbID': 'tt7660850',\n",
       " 'Type': 'series',\n",
       " 'totalSeasons': '3',\n",
       " 'Response': 'True'}"
      ]
     },
     "execution_count": 3,
     "metadata": {},
     "output_type": "execute_result"
    }
   ],
   "source": [
    "movie.get_all_data()"
   ]
  },
  {
   "cell_type": "code",
   "execution_count": 21,
   "metadata": {},
   "outputs": [],
   "source": [
    "start_url=[]\n",
    "for i in range(2020,1939,-1):\n",
    "        url = f'https://www.imdb.com/event/ev0000223/{i}/1/?ref_=ev_eh'\n",
    "        start_url.append(url)"
   ]
  },
  {
   "cell_type": "code",
   "execution_count": 22,
   "metadata": {},
   "outputs": [
    {
     "output_type": "execute_result",
     "data": {
      "text/plain": [
       "['https://www.imdb.com/event/ev0000223/2020/1/?ref_=ev_eh',\n",
       " 'https://www.imdb.com/event/ev0000223/2019/1/?ref_=ev_eh',\n",
       " 'https://www.imdb.com/event/ev0000223/2018/1/?ref_=ev_eh',\n",
       " 'https://www.imdb.com/event/ev0000223/2017/1/?ref_=ev_eh',\n",
       " 'https://www.imdb.com/event/ev0000223/2016/1/?ref_=ev_eh',\n",
       " 'https://www.imdb.com/event/ev0000223/2015/1/?ref_=ev_eh',\n",
       " 'https://www.imdb.com/event/ev0000223/2014/1/?ref_=ev_eh',\n",
       " 'https://www.imdb.com/event/ev0000223/2013/1/?ref_=ev_eh',\n",
       " 'https://www.imdb.com/event/ev0000223/2012/1/?ref_=ev_eh',\n",
       " 'https://www.imdb.com/event/ev0000223/2011/1/?ref_=ev_eh',\n",
       " 'https://www.imdb.com/event/ev0000223/2010/1/?ref_=ev_eh',\n",
       " 'https://www.imdb.com/event/ev0000223/2009/1/?ref_=ev_eh',\n",
       " 'https://www.imdb.com/event/ev0000223/2008/1/?ref_=ev_eh',\n",
       " 'https://www.imdb.com/event/ev0000223/2007/1/?ref_=ev_eh',\n",
       " 'https://www.imdb.com/event/ev0000223/2006/1/?ref_=ev_eh',\n",
       " 'https://www.imdb.com/event/ev0000223/2005/1/?ref_=ev_eh',\n",
       " 'https://www.imdb.com/event/ev0000223/2004/1/?ref_=ev_eh',\n",
       " 'https://www.imdb.com/event/ev0000223/2003/1/?ref_=ev_eh',\n",
       " 'https://www.imdb.com/event/ev0000223/2002/1/?ref_=ev_eh',\n",
       " 'https://www.imdb.com/event/ev0000223/2001/1/?ref_=ev_eh',\n",
       " 'https://www.imdb.com/event/ev0000223/2000/1/?ref_=ev_eh',\n",
       " 'https://www.imdb.com/event/ev0000223/1999/1/?ref_=ev_eh',\n",
       " 'https://www.imdb.com/event/ev0000223/1998/1/?ref_=ev_eh',\n",
       " 'https://www.imdb.com/event/ev0000223/1997/1/?ref_=ev_eh',\n",
       " 'https://www.imdb.com/event/ev0000223/1996/1/?ref_=ev_eh',\n",
       " 'https://www.imdb.com/event/ev0000223/1995/1/?ref_=ev_eh',\n",
       " 'https://www.imdb.com/event/ev0000223/1994/1/?ref_=ev_eh',\n",
       " 'https://www.imdb.com/event/ev0000223/1993/1/?ref_=ev_eh',\n",
       " 'https://www.imdb.com/event/ev0000223/1992/1/?ref_=ev_eh',\n",
       " 'https://www.imdb.com/event/ev0000223/1991/1/?ref_=ev_eh',\n",
       " 'https://www.imdb.com/event/ev0000223/1990/1/?ref_=ev_eh',\n",
       " 'https://www.imdb.com/event/ev0000223/1989/1/?ref_=ev_eh',\n",
       " 'https://www.imdb.com/event/ev0000223/1988/1/?ref_=ev_eh',\n",
       " 'https://www.imdb.com/event/ev0000223/1987/1/?ref_=ev_eh',\n",
       " 'https://www.imdb.com/event/ev0000223/1986/1/?ref_=ev_eh',\n",
       " 'https://www.imdb.com/event/ev0000223/1985/1/?ref_=ev_eh',\n",
       " 'https://www.imdb.com/event/ev0000223/1984/1/?ref_=ev_eh',\n",
       " 'https://www.imdb.com/event/ev0000223/1983/1/?ref_=ev_eh',\n",
       " 'https://www.imdb.com/event/ev0000223/1982/1/?ref_=ev_eh',\n",
       " 'https://www.imdb.com/event/ev0000223/1981/1/?ref_=ev_eh',\n",
       " 'https://www.imdb.com/event/ev0000223/1980/1/?ref_=ev_eh',\n",
       " 'https://www.imdb.com/event/ev0000223/1979/1/?ref_=ev_eh',\n",
       " 'https://www.imdb.com/event/ev0000223/1978/1/?ref_=ev_eh',\n",
       " 'https://www.imdb.com/event/ev0000223/1977/1/?ref_=ev_eh',\n",
       " 'https://www.imdb.com/event/ev0000223/1976/1/?ref_=ev_eh',\n",
       " 'https://www.imdb.com/event/ev0000223/1975/1/?ref_=ev_eh',\n",
       " 'https://www.imdb.com/event/ev0000223/1974/1/?ref_=ev_eh',\n",
       " 'https://www.imdb.com/event/ev0000223/1973/1/?ref_=ev_eh',\n",
       " 'https://www.imdb.com/event/ev0000223/1972/1/?ref_=ev_eh',\n",
       " 'https://www.imdb.com/event/ev0000223/1971/1/?ref_=ev_eh',\n",
       " 'https://www.imdb.com/event/ev0000223/1970/1/?ref_=ev_eh',\n",
       " 'https://www.imdb.com/event/ev0000223/1969/1/?ref_=ev_eh',\n",
       " 'https://www.imdb.com/event/ev0000223/1968/1/?ref_=ev_eh',\n",
       " 'https://www.imdb.com/event/ev0000223/1967/1/?ref_=ev_eh',\n",
       " 'https://www.imdb.com/event/ev0000223/1966/1/?ref_=ev_eh',\n",
       " 'https://www.imdb.com/event/ev0000223/1965/1/?ref_=ev_eh',\n",
       " 'https://www.imdb.com/event/ev0000223/1964/1/?ref_=ev_eh',\n",
       " 'https://www.imdb.com/event/ev0000223/1963/1/?ref_=ev_eh',\n",
       " 'https://www.imdb.com/event/ev0000223/1962/1/?ref_=ev_eh',\n",
       " 'https://www.imdb.com/event/ev0000223/1961/1/?ref_=ev_eh',\n",
       " 'https://www.imdb.com/event/ev0000223/1960/1/?ref_=ev_eh',\n",
       " 'https://www.imdb.com/event/ev0000223/1959/1/?ref_=ev_eh',\n",
       " 'https://www.imdb.com/event/ev0000223/1958/1/?ref_=ev_eh',\n",
       " 'https://www.imdb.com/event/ev0000223/1957/1/?ref_=ev_eh',\n",
       " 'https://www.imdb.com/event/ev0000223/1956/1/?ref_=ev_eh',\n",
       " 'https://www.imdb.com/event/ev0000223/1955/1/?ref_=ev_eh',\n",
       " 'https://www.imdb.com/event/ev0000223/1954/1/?ref_=ev_eh',\n",
       " 'https://www.imdb.com/event/ev0000223/1953/1/?ref_=ev_eh',\n",
       " 'https://www.imdb.com/event/ev0000223/1952/1/?ref_=ev_eh',\n",
       " 'https://www.imdb.com/event/ev0000223/1951/1/?ref_=ev_eh',\n",
       " 'https://www.imdb.com/event/ev0000223/1950/1/?ref_=ev_eh',\n",
       " 'https://www.imdb.com/event/ev0000223/1949/1/?ref_=ev_eh',\n",
       " 'https://www.imdb.com/event/ev0000223/1948/1/?ref_=ev_eh',\n",
       " 'https://www.imdb.com/event/ev0000223/1947/1/?ref_=ev_eh',\n",
       " 'https://www.imdb.com/event/ev0000223/1946/1/?ref_=ev_eh',\n",
       " 'https://www.imdb.com/event/ev0000223/1945/1/?ref_=ev_eh',\n",
       " 'https://www.imdb.com/event/ev0000223/1944/1/?ref_=ev_eh',\n",
       " 'https://www.imdb.com/event/ev0000223/1943/1/?ref_=ev_eh',\n",
       " 'https://www.imdb.com/event/ev0000223/1942/1/?ref_=ev_eh',\n",
       " 'https://www.imdb.com/event/ev0000223/1941/1/?ref_=ev_eh',\n",
       " 'https://www.imdb.com/event/ev0000223/1940/1/?ref_=ev_eh']"
      ]
     },
     "metadata": {},
     "execution_count": 22
    }
   ],
   "source": [
    "start_url"
   ]
  },
  {
   "cell_type": "code",
   "execution_count": null,
   "metadata": {},
   "outputs": [],
   "source": []
  }
 ],
 "metadata": {
  "kernelspec": {
   "name": "Python 3.8.0 64-bit",
   "display_name": "Python 3.8.0 64-bit",
   "metadata": {
    "interpreter": {
     "hash": "df0893f56f349688326838aaeea0de204df53a132722cbd565e54b24a8fec5f6"
    }
   }
  },
  "language_info": {
   "codemirror_mode": {
    "name": "ipython",
    "version": 3
   },
   "file_extension": ".py",
   "mimetype": "text/x-python",
   "name": "python",
   "nbconvert_exporter": "python",
   "pygments_lexer": "ipython3",
   "version": "3.8.0-final"
  }
 },
 "nbformat": 4,
 "nbformat_minor": 2
}