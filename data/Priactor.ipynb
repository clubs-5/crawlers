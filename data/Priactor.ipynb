{
 "cells": [
  {
   "cell_type": "code",
   "execution_count": 1,
   "metadata": {
    "scrolled": true
   },
   "outputs": [
    {
     "name": "stdout",
     "output_type": "stream",
     "text": [
      "Requirement already satisfied: pandas in ./anaconda3/lib/python3.7/site-packages (1.0.1)\r\n",
      "Requirement already satisfied: numpy>=1.13.3 in ./anaconda3/lib/python3.7/site-packages (from pandas) (1.18.1)\r\n",
      "Requirement already satisfied: pytz>=2017.2 in ./anaconda3/lib/python3.7/site-packages (from pandas) (2019.3)\r\n",
      "Requirement already satisfied: python-dateutil>=2.6.1 in ./anaconda3/lib/python3.7/site-packages (from pandas) (2.8.1)\r\n",
      "Requirement already satisfied: six>=1.5 in ./anaconda3/lib/python3.7/site-packages (from python-dateutil>=2.6.1->pandas) (1.14.0)\r\n"
     ]
    }
   ],
   "source": [
    "!pip install pandas"
   ]
  },
  {
   "cell_type": "code",
   "execution_count": 60,
   "metadata": {
    "scrolled": true
   },
   "outputs": [
    {
     "data": {
      "text/html": [
       "<div>\n",
       "<style scoped>\n",
       "    .dataframe tbody tr th:only-of-type {\n",
       "        vertical-align: middle;\n",
       "    }\n",
       "\n",
       "    .dataframe tbody tr th {\n",
       "        vertical-align: top;\n",
       "    }\n",
       "\n",
       "    .dataframe thead th {\n",
       "        text-align: right;\n",
       "    }\n",
       "</style>\n",
       "<table border=\"1\" class=\"dataframe\">\n",
       "  <thead>\n",
       "    <tr style=\"text-align: right;\">\n",
       "      <th></th>\n",
       "      <th>finalist</th>\n",
       "      <th>year</th>\n",
       "      <th>winner_Nominee</th>\n",
       "      <th>item_award</th>\n",
       "      <th>award_description</th>\n",
       "    </tr>\n",
       "  </thead>\n",
       "  <tbody>\n",
       "    <tr>\n",
       "      <th>0</th>\n",
       "      <td>Kathleen Williams</td>\n",
       "      <td>2014</td>\n",
       "      <td>Nominee</td>\n",
       "      <td>Primetime Emmy</td>\n",
       "      <td>Outstanding Short-Format Nonfiction Program</td>\n",
       "    </tr>\n",
       "    <tr>\n",
       "      <th>1</th>\n",
       "      <td>Nick Poppy</td>\n",
       "      <td>2012</td>\n",
       "      <td>Nominee</td>\n",
       "      <td>Primetime Emmy</td>\n",
       "      <td>Outstanding Special Class - Short-Format Live-...</td>\n",
       "    </tr>\n",
       "    <tr>\n",
       "      <th>2</th>\n",
       "      <td>Nick Poppy</td>\n",
       "      <td>2020</td>\n",
       "      <td>Winner</td>\n",
       "      <td>New York Emmy</td>\n",
       "      <td>CRIME: PROGRAM FEATURE/SEGMENT/SPECIAL</td>\n",
       "    </tr>\n",
       "    <tr>\n",
       "      <th>3</th>\n",
       "      <td>Nick Poppy</td>\n",
       "      <td>2009</td>\n",
       "      <td>Winner</td>\n",
       "      <td>Honoree</td>\n",
       "      <td>Online Film &amp; Video - Comedy: Long Form or Series</td>\n",
       "    </tr>\n",
       "    <tr>\n",
       "      <th>4</th>\n",
       "      <td>Uma Thurman</td>\n",
       "      <td>1995</td>\n",
       "      <td>Nominee</td>\n",
       "      <td>Oscar</td>\n",
       "      <td>Best Actress in a Supporting Role</td>\n",
       "    </tr>\n",
       "    <tr>\n",
       "      <th>...</th>\n",
       "      <td>...</td>\n",
       "      <td>...</td>\n",
       "      <td>...</td>\n",
       "      <td>...</td>\n",
       "      <td>...</td>\n",
       "    </tr>\n",
       "    <tr>\n",
       "      <th>31084</th>\n",
       "      <td>Fran Allison</td>\n",
       "      <td>1950</td>\n",
       "      <td>Nominee</td>\n",
       "      <td>Primetime Emmy</td>\n",
       "      <td>Most Outstanding Kinescope Personality</td>\n",
       "    </tr>\n",
       "    <tr>\n",
       "      <th>31085</th>\n",
       "      <td>Fran Allison</td>\n",
       "      <td>1960</td>\n",
       "      <td>Winner</td>\n",
       "      <td>Star on the Walk of Fame</td>\n",
       "      <td>Television</td>\n",
       "    </tr>\n",
       "    <tr>\n",
       "      <th>31086</th>\n",
       "      <td>Bill Welsh</td>\n",
       "      <td>1950</td>\n",
       "      <td>Nominee</td>\n",
       "      <td>Primetime Emmy</td>\n",
       "      <td>Most Outstanding Live Personality</td>\n",
       "    </tr>\n",
       "    <tr>\n",
       "      <th>31087</th>\n",
       "      <td>Bill Welsh</td>\n",
       "      <td>1980</td>\n",
       "      <td>Winner</td>\n",
       "      <td>Star on the Walk of Fame</td>\n",
       "      <td>Television</td>\n",
       "    </tr>\n",
       "    <tr>\n",
       "      <th>31088</th>\n",
       "      <td>Shirley Dinsdale</td>\n",
       "      <td>1949</td>\n",
       "      <td>Winner</td>\n",
       "      <td>Primetime Emmy</td>\n",
       "      <td>Most Outstanding Television Personality</td>\n",
       "    </tr>\n",
       "  </tbody>\n",
       "</table>\n",
       "<p>31089 rows × 5 columns</p>\n",
       "</div>"
      ],
      "text/plain": [
       "                finalist  year winner_Nominee                item_award  \\\n",
       "0      Kathleen Williams  2014        Nominee            Primetime Emmy   \n",
       "1             Nick Poppy  2012        Nominee            Primetime Emmy   \n",
       "2             Nick Poppy  2020         Winner             New York Emmy   \n",
       "3             Nick Poppy  2009         Winner                   Honoree   \n",
       "4            Uma Thurman  1995        Nominee                     Oscar   \n",
       "...                  ...   ...            ...                       ...   \n",
       "31084       Fran Allison  1950        Nominee            Primetime Emmy   \n",
       "31085       Fran Allison  1960         Winner  Star on the Walk of Fame   \n",
       "31086         Bill Welsh  1950        Nominee            Primetime Emmy   \n",
       "31087         Bill Welsh  1980         Winner  Star on the Walk of Fame   \n",
       "31088   Shirley Dinsdale  1949         Winner            Primetime Emmy   \n",
       "\n",
       "                                       award_description  \n",
       "0            Outstanding Short-Format Nonfiction Program  \n",
       "1      Outstanding Special Class - Short-Format Live-...  \n",
       "2                 CRIME: PROGRAM FEATURE/SEGMENT/SPECIAL  \n",
       "3      Online Film & Video - Comedy: Long Form or Series  \n",
       "4                      Best Actress in a Supporting Role  \n",
       "...                                                  ...  \n",
       "31084             Most Outstanding Kinescope Personality  \n",
       "31085                                         Television  \n",
       "31086                  Most Outstanding Live Personality  \n",
       "31087                                         Television  \n",
       "31088            Most Outstanding Television Personality  \n",
       "\n",
       "[31089 rows x 5 columns]"
      ]
     },
     "execution_count": 60,
     "metadata": {},
     "output_type": "execute_result"
    }
   ],
   "source": [
    "import pandas as pd\n",
    "\n",
    "df = pd.read_csv('/home/lmin/Desktop/test/crawlers/data/prime_actor_finished.csv')#匯入資料\n",
    "sort = df.sort_values(by='year')#年份排序\n",
    "df.fillna('NA')#將空值欄位填入NA\n",
    "#fliter = (df['item_award']=='Primetime Emmy')#將艾美獎篩選出來\n"
   ]
  },
  {
   "cell_type": "code",
   "execution_count": 61,
   "metadata": {
    "scrolled": true
   },
   "outputs": [],
   "source": [
    "df.to_csv('New_priactor.csv',encoding='utf8')#存兩個檔案 一個有所有獎項 另一個只有黃金時段艾美獎"
   ]
  },
  {
   "cell_type": "code",
   "execution_count": null,
   "metadata": {},
   "outputs": [],
   "source": []
  }
 ],
 "metadata": {
  "kernelspec": {
   "display_name": "Python 3",
   "language": "python",
   "name": "python3"
  },
  "language_info": {
   "codemirror_mode": {
    "name": "ipython",
    "version": 3
   },
   "file_extension": ".py",
   "mimetype": "text/x-python",
   "name": "python",
   "nbconvert_exporter": "python",
   "pygments_lexer": "ipython3",
   "version": "3.7.6"
  }
 },
 "nbformat": 4,
 "nbformat_minor": 4
}
